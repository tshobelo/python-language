{
 "cells": [
  {
   "cell_type": "code",
   "execution_count": 1,
   "metadata": {},
   "outputs": [],
   "source": [
    "import pandas as pd"
   ]
  },
  {
   "cell_type": "code",
   "execution_count": 2,
   "metadata": {},
   "outputs": [],
   "source": [
    "my_data = pd.read_csv('C:/Users/user/Downloads/Sample.csv')"
   ]
  },
  {
   "cell_type": "code",
   "execution_count": 3,
   "metadata": {},
   "outputs": [
    {
     "data": {
      "text/html": [
       "<div>\n",
       "<style scoped>\n",
       "    .dataframe tbody tr th:only-of-type {\n",
       "        vertical-align: middle;\n",
       "    }\n",
       "\n",
       "    .dataframe tbody tr th {\n",
       "        vertical-align: top;\n",
       "    }\n",
       "\n",
       "    .dataframe thead th {\n",
       "        text-align: right;\n",
       "    }\n",
       "</style>\n",
       "<table border=\"1\" class=\"dataframe\">\n",
       "  <thead>\n",
       "    <tr style=\"text-align: right;\">\n",
       "      <th></th>\n",
       "      <th>s/n</th>\n",
       "      <th>item</th>\n",
       "      <th>Available Quantity</th>\n",
       "      <th>Price per quantity(N)</th>\n",
       "    </tr>\n",
       "  </thead>\n",
       "  <tbody>\n",
       "    <tr>\n",
       "      <th>0</th>\n",
       "      <td>1.0</td>\n",
       "      <td>Sugar</td>\n",
       "      <td>131.0</td>\n",
       "      <td>50.0</td>\n",
       "    </tr>\n",
       "    <tr>\n",
       "      <th>1</th>\n",
       "      <td>2.0</td>\n",
       "      <td>Bread (sliced)</td>\n",
       "      <td>311.0</td>\n",
       "      <td>200.0</td>\n",
       "    </tr>\n",
       "    <tr>\n",
       "      <th>2</th>\n",
       "      <td>3.0</td>\n",
       "      <td>Bread (unsliced)</td>\n",
       "      <td>229.0</td>\n",
       "      <td>150.0</td>\n",
       "    </tr>\n",
       "    <tr>\n",
       "      <th>3</th>\n",
       "      <td>4.0</td>\n",
       "      <td>Egg</td>\n",
       "      <td>545.0</td>\n",
       "      <td>50.0</td>\n",
       "    </tr>\n",
       "    <tr>\n",
       "      <th>4</th>\n",
       "      <td>5.0</td>\n",
       "      <td>Three crown (tin)</td>\n",
       "      <td>201.0</td>\n",
       "      <td>150.0</td>\n",
       "    </tr>\n",
       "  </tbody>\n",
       "</table>\n",
       "</div>"
      ],
      "text/plain": [
       "   s/n               item   Available Quantity   Price per quantity(N) \n",
       "0   1.0              Sugar                131.0                    50.0\n",
       "1   2.0     Bread (sliced)                311.0                   200.0\n",
       "2   3.0   Bread (unsliced)                229.0                   150.0\n",
       "3   4.0                Egg                545.0                    50.0\n",
       "4   5.0  Three crown (tin)                201.0                   150.0"
      ]
     },
     "execution_count": 3,
     "metadata": {},
     "output_type": "execute_result"
    }
   ],
   "source": [
    "my_data.head()"
   ]
  },
  {
   "cell_type": "code",
   "execution_count": 5,
   "metadata": {},
   "outputs": [],
   "source": [
    "my_data.columns = ['s/n','item','AQ','PPQ']"
   ]
  },
  {
   "cell_type": "markdown",
   "metadata": {},
   "source": [
    "Mr Adamu has a retail market where he sells daily basic food items. The table below shows\n",
    "the items, available quantity and prices.\n",
    "a. As a python developer you were told to develop a python program that keeps in\n",
    "check stock details, pricing and others. Let your program have the following basic\n",
    "functionality (note: you can add your own):\n",
    "1. An inbuilt function for admin to change the price of any of the items.\n",
    "2. An inbuilt function for admins to add more items.\n",
    "3. An inbuilt function to compute goods purchased per customer and displays a receipt for printing.\n",
    "\n",
    "a. The function must be able to add 20% VAT for customers buying less\n",
    "than 5 items.\n",
    "b. 30% VAT for customers buying more than 10 items.\n",
    "c. N800 bonus goods for customers purchasing more than 10 items with\n",
    "the least amount being N100.\n",
    "4. An inbuilt function that updates stock after an item has been purchased.\n",
    "5. An inbuilt function that takes record of total gain per day.\n",
    "b. Write a test program, that communicates with the buyer, taking note of the following:\n",
    "    i. Displays the available items.\n",
    "    ii. Their corresponding price.\n",
    "    iii. Receives items customers want to buy, and their corresponding quantities.\n",
    "    iv. Computes their total payment.\n",
    "    v. Finally display to the customers, a receipt (with the item purchased, quantity, corresponding prices and total price). Also display discounts (if any)."
   ]
  },
  {
   "cell_type": "markdown",
   "metadata": {},
   "source": [
    "### An inbuilt function for admin to change the price of any of the items"
   ]
  },
  {
   "cell_type": "code",
   "execution_count": 6,
   "metadata": {},
   "outputs": [],
   "source": [
    "def change_price(data, item_col_name, item_name, new_price, price_col_name):\n",
    "    data.loc[data[item_col_name]==item_name,price_col_name] = new_price\n",
    "    return data.loc[data[item_col_name]==item_name]\n",
    "    "
   ]
  },
  {
   "cell_type": "code",
   "execution_count": null,
   "metadata": {},
   "outputs": [],
   "source": [
    "my_data.loc[my_data['item']=='Sugar',\"PPQ\"]=50"
   ]
  },
  {
   "cell_type": "code",
   "execution_count": 8,
   "metadata": {
    "scrolled": false
   },
   "outputs": [
    {
     "data": {
      "text/html": [
       "<div>\n",
       "<style scoped>\n",
       "    .dataframe tbody tr th:only-of-type {\n",
       "        vertical-align: middle;\n",
       "    }\n",
       "\n",
       "    .dataframe tbody tr th {\n",
       "        vertical-align: top;\n",
       "    }\n",
       "\n",
       "    .dataframe thead th {\n",
       "        text-align: right;\n",
       "    }\n",
       "</style>\n",
       "<table border=\"1\" class=\"dataframe\">\n",
       "  <thead>\n",
       "    <tr style=\"text-align: right;\">\n",
       "      <th></th>\n",
       "      <th>s/n</th>\n",
       "      <th>item</th>\n",
       "      <th>AQ</th>\n",
       "      <th>PPQ</th>\n",
       "    </tr>\n",
       "  </thead>\n",
       "  <tbody>\n",
       "    <tr>\n",
       "      <th>0</th>\n",
       "      <td>1.0</td>\n",
       "      <td>Sugar</td>\n",
       "      <td>131.0</td>\n",
       "      <td>100.0</td>\n",
       "    </tr>\n",
       "  </tbody>\n",
       "</table>\n",
       "</div>"
      ],
      "text/plain": [
       "   s/n   item     AQ    PPQ\n",
       "0  1.0  Sugar  131.0  100.0"
      ]
     },
     "execution_count": 8,
     "metadata": {},
     "output_type": "execute_result"
    }
   ],
   "source": [
    "change_price(my_data, 'item', 'Sugar', 100, 'PPQ')"
   ]
  },
  {
   "cell_type": "markdown",
   "metadata": {},
   "source": [
    "### An inbuilt function for admins to add more items."
   ]
  },
  {
   "cell_type": "code",
   "execution_count": 10,
   "metadata": {},
   "outputs": [],
   "source": [
    "def add_item(data):\n",
    "    item_names = list(data.columns)\n",
    "    next_index = max(data[item_names[0]])+1\n",
    "    item_list = [next_index]\n",
    "    for values in item_names[1:]:\n",
    "        value = eval(input('Enter ' + values +': '))\n",
    "        item_list.append(value)\n",
    "    data.loc[next_index-1]  = item_list\n",
    "    return data.tail()\n"
   ]
  },
  {
   "cell_type": "code",
   "execution_count": null,
   "metadata": {},
   "outputs": [],
   "source": [
    " add_item(my_data)"
   ]
  },
  {
   "cell_type": "code",
   "execution_count": null,
   "metadata": {},
   "outputs": [],
   "source": [
    " item_names = list(my_data.columns)\n",
    "next_index = max(my_data.iloc[:,0:])+1\n",
    "item_list = [next_index]\n",
    "for values in item_names[1:]:\n",
    "    value = eval(input('Enter ' + values +': '))\n",
    "    item_list.append(value)\n",
    " df.loc[next_index-1]  = item_list "
   ]
  },
  {
   "cell_type": "markdown",
   "metadata": {},
   "source": [
    "### An inbuilt function that updates stock after an item has been purchased."
   ]
  },
  {
   "cell_type": "code",
   "execution_count": null,
   "metadata": {},
   "outputs": [],
   "source": [
    "def update_stock(data,item_col_name,qty_col_name):\n",
    "    while True:\n",
    "        response = eval(input('Do you want to enter an item, y/n? : '))\n",
    "        if response == 'y':\n",
    "            item_name = input('Enter the name of the item: ')\n",
    "            item_qty = eval(input('Enter the quantity of the item: '))\n",
    "            data.loc[data[item_col_name]==item_name,qty_col_name] = data.loc[data[item_col_name]==item_name,qty_col_name] - item_qty\n",
    "        else:\n",
    "            break"
   ]
  },
  {
   "cell_type": "code",
   "execution_count": null,
   "metadata": {},
   "outputs": [
    {
     "name": "stdout",
     "output_type": "stream",
     "text": [
      "Do you want to enter an item, y/n? : 'y'\n",
      "Enter the name of the item: 'Iyiola'\n",
      "Enter the quantity of the item: 20\n",
      "Do you want to enter an item, y/n? : 'n'\n",
      "Do you want to enter an item, y/n? : 'n'\n"
     ]
    }
   ],
   "source": [
    "update_stock(my_data,'item','AQ')"
   ]
  },
  {
   "cell_type": "code",
   "execution_count": 6,
   "metadata": {
    "scrolled": false
   },
   "outputs": [
    {
     "data": {
      "text/html": [
       "<div>\n",
       "<style scoped>\n",
       "    .dataframe tbody tr th:only-of-type {\n",
       "        vertical-align: middle;\n",
       "    }\n",
       "\n",
       "    .dataframe tbody tr th {\n",
       "        vertical-align: top;\n",
       "    }\n",
       "\n",
       "    .dataframe thead th {\n",
       "        text-align: right;\n",
       "    }\n",
       "</style>\n",
       "<table border=\"1\" class=\"dataframe\">\n",
       "  <thead>\n",
       "    <tr style=\"text-align: right;\">\n",
       "      <th></th>\n",
       "      <th>s/n</th>\n",
       "      <th>item</th>\n",
       "      <th>AQ</th>\n",
       "      <th>PPQ</th>\n",
       "    </tr>\n",
       "  </thead>\n",
       "  <tbody>\n",
       "    <tr>\n",
       "      <th>25</th>\n",
       "      <td>26.0</td>\n",
       "      <td>Sprite (big)</td>\n",
       "      <td>956.0</td>\n",
       "      <td>150.0</td>\n",
       "    </tr>\n",
       "    <tr>\n",
       "      <th>26</th>\n",
       "      <td>27.0</td>\n",
       "      <td>Pepsi (big)</td>\n",
       "      <td>374.0</td>\n",
       "      <td>150.0</td>\n",
       "    </tr>\n",
       "    <tr>\n",
       "      <th>27</th>\n",
       "      <td>28.0</td>\n",
       "      <td>Fanta (big)</td>\n",
       "      <td>267.0</td>\n",
       "      <td>150.0</td>\n",
       "    </tr>\n",
       "    <tr>\n",
       "      <th>28</th>\n",
       "      <td>29.0</td>\n",
       "      <td>Lacasera (big)</td>\n",
       "      <td>786.0</td>\n",
       "      <td>150.0</td>\n",
       "    </tr>\n",
       "    <tr>\n",
       "      <th>29</th>\n",
       "      <td>30.0</td>\n",
       "      <td>Coke (big)</td>\n",
       "      <td>546.0</td>\n",
       "      <td>150.0</td>\n",
       "    </tr>\n",
       "  </tbody>\n",
       "</table>\n",
       "</div>"
      ],
      "text/plain": [
       "     s/n            item     AQ    PPQ\n",
       "25  26.0    Sprite (big)  956.0  150.0\n",
       "26  27.0     Pepsi (big)  374.0  150.0\n",
       "27  28.0     Fanta (big)  267.0  150.0\n",
       "28  29.0  Lacasera (big)  786.0  150.0\n",
       "29  30.0      Coke (big)  546.0  150.0"
      ]
     },
     "execution_count": 6,
     "metadata": {},
     "output_type": "execute_result"
    }
   ],
   "source": [
    "my_data.tail()"
   ]
  },
  {
   "cell_type": "code",
   "execution_count": 60,
   "metadata": {},
   "outputs": [],
   "source": [
    "my_data.loc[my_data['item']=='Adetoro','AQ'] = my_data.loc[my_data['item']=='Adetoro','AQ'] - 2\n",
    "t"
   ]
  },
  {
   "cell_type": "code",
   "execution_count": 21,
   "metadata": {
    "scrolled": true
   },
   "outputs": [
    {
     "data": {
      "text/plain": [
       "[31.0, 'Iyiola', 140, 100]"
      ]
     },
     "execution_count": 21,
     "metadata": {},
     "output_type": "execute_result"
    }
   ],
   "source": [
    "item_list"
   ]
  },
  {
   "cell_type": "markdown",
   "metadata": {},
   "source": [
    "An inbuilt function that updates stock after an item has been purchased."
   ]
  },
  {
   "cell_type": "code",
   "execution_count": 37,
   "metadata": {},
   "outputs": [
    {
     "data": {
      "text/plain": [
       "30.0"
      ]
     },
     "execution_count": 37,
     "metadata": {},
     "output_type": "execute_result"
    }
   ],
   "source": [
    "max(my_data['s/n'])"
   ]
  },
  {
   "cell_type": "code",
   "execution_count": null,
   "metadata": {},
   "outputs": [],
   "source": []
  },
  {
   "cell_type": "code",
   "execution_count": null,
   "metadata": {},
   "outputs": [],
   "source": [
    "item_names = list(my_data.columns)\n",
    "for values in item_names[1:]:\n",
    "     value = eval(input('Enter ' + values +': '))"
   ]
  },
  {
   "cell_type": "code",
   "execution_count": 5,
   "metadata": {},
   "outputs": [],
   "source": [
    "my_data = my_data.iloc[:30,:]"
   ]
  },
  {
   "cell_type": "code",
   "execution_count": 19,
   "metadata": {},
   "outputs": [
    {
     "data": {
      "text/plain": [
       "0      1.0\n",
       "1      2.0\n",
       "2      3.0\n",
       "3      4.0\n",
       "4      5.0\n",
       "5      6.0\n",
       "6      7.0\n",
       "7      8.0\n",
       "8      9.0\n",
       "9     10.0\n",
       "10    11.0\n",
       "11    12.0\n",
       "12    13.0\n",
       "13    14.0\n",
       "14    15.0\n",
       "15    16.0\n",
       "16    17.0\n",
       "17    18.0\n",
       "18    19.0\n",
       "19    20.0\n",
       "20    21.0\n",
       "21    22.0\n",
       "22    23.0\n",
       "23    24.0\n",
       "24    25.0\n",
       "25    26.0\n",
       "26    27.0\n",
       "27    28.0\n",
       "28    29.0\n",
       "29    30.0\n",
       "Name: s/n, dtype: float64"
      ]
     },
     "execution_count": 19,
     "metadata": {},
     "output_type": "execute_result"
    }
   ],
   "source": [
    "my_data['s/n'] "
   ]
  },
  {
   "cell_type": "code",
   "execution_count": 59,
   "metadata": {},
   "outputs": [
    {
     "data": {
      "text/html": [
       "<div>\n",
       "<style scoped>\n",
       "    .dataframe tbody tr th:only-of-type {\n",
       "        vertical-align: middle;\n",
       "    }\n",
       "\n",
       "    .dataframe tbody tr th {\n",
       "        vertical-align: top;\n",
       "    }\n",
       "\n",
       "    .dataframe thead th {\n",
       "        text-align: right;\n",
       "    }\n",
       "</style>\n",
       "<table border=\"1\" class=\"dataframe\">\n",
       "  <thead>\n",
       "    <tr style=\"text-align: right;\">\n",
       "      <th></th>\n",
       "      <th>s/n</th>\n",
       "      <th>item</th>\n",
       "      <th>AQ</th>\n",
       "      <th>PPQ</th>\n",
       "    </tr>\n",
       "  </thead>\n",
       "  <tbody>\n",
       "    <tr>\n",
       "      <th>0</th>\n",
       "      <td>1.0</td>\n",
       "      <td>Sugar</td>\n",
       "      <td>131.0</td>\n",
       "      <td>100.0</td>\n",
       "    </tr>\n",
       "    <tr>\n",
       "      <th>1</th>\n",
       "      <td>2.0</td>\n",
       "      <td>Bread (sliced)</td>\n",
       "      <td>311.0</td>\n",
       "      <td>200.0</td>\n",
       "    </tr>\n",
       "    <tr>\n",
       "      <th>2</th>\n",
       "      <td>3.0</td>\n",
       "      <td>Bread (unsliced)</td>\n",
       "      <td>229.0</td>\n",
       "      <td>150.0</td>\n",
       "    </tr>\n",
       "    <tr>\n",
       "      <th>3</th>\n",
       "      <td>4.0</td>\n",
       "      <td>Egg</td>\n",
       "      <td>545.0</td>\n",
       "      <td>50.0</td>\n",
       "    </tr>\n",
       "    <tr>\n",
       "      <th>4</th>\n",
       "      <td>5.0</td>\n",
       "      <td>Three crown (tin)</td>\n",
       "      <td>201.0</td>\n",
       "      <td>150.0</td>\n",
       "    </tr>\n",
       "  </tbody>\n",
       "</table>\n",
       "</div>"
      ],
      "text/plain": [
       "   s/n               item     AQ    PPQ\n",
       "0  1.0              Sugar  131.0  100.0\n",
       "1  2.0     Bread (sliced)  311.0  200.0\n",
       "2  3.0   Bread (unsliced)  229.0  150.0\n",
       "3  4.0                Egg  545.0   50.0\n",
       "4  5.0  Three crown (tin)  201.0  150.0"
      ]
     },
     "execution_count": 59,
     "metadata": {},
     "output_type": "execute_result"
    }
   ],
   "source": [
    "my_data.head()"
   ]
  }
 ],
 "metadata": {
  "kernelspec": {
   "display_name": "Python 3",
   "language": "python",
   "name": "python3"
  },
  "language_info": {
   "codemirror_mode": {
    "name": "ipython",
    "version": 3
   },
   "file_extension": ".py",
   "mimetype": "text/x-python",
   "name": "python",
   "nbconvert_exporter": "python",
   "pygments_lexer": "ipython3",
   "version": "3.8.3"
  }
 },
 "nbformat": 4,
 "nbformat_minor": 4
}
